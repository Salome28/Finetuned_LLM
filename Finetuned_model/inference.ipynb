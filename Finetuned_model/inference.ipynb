{
 "cells": [
  {
   "cell_type": "markdown",
   "metadata": {},
   "source": [
    "### Inference avec une pipeline"
   ]
  },
  {
   "cell_type": "code",
   "execution_count": 13,
   "metadata": {},
   "outputs": [],
   "source": [
    "from transformers import pipeline\n",
    "\n",
    "classifier = pipeline(\"text-classification\", model=\"model\")"
   ]
  },
  {
   "cell_type": "markdown",
   "metadata": {},
   "source": [
    "### Test 1"
   ]
  },
  {
   "cell_type": "markdown",
   "metadata": {},
   "source": [
    "Le premier texte est une réponse de Chat GPT à la question \"Qui a inventé les feux de circulation ?\" "
   ]
  },
  {
   "cell_type": "code",
   "execution_count": 14,
   "metadata": {},
   "outputs": [
    {
     "data": {
      "text/plain": [
       "[{'label': 'CHATGPT', 'score': 0.9999736547470093}]"
      ]
     },
     "execution_count": 14,
     "metadata": {},
     "output_type": "execute_result"
    }
   ],
   "source": [
    "text_1 = \"The modern traffic light, as we know it today, was invented by Garrett Morgan, an African-American inventor and entrepreneur. In 1923, Morgan patented an improved version of the traffic signal, which included a third position to stop traffic in all directions to allow pedestrians to cross streets safely. Morgan's invention was a significant contribution to traffic management and road safety.\"\n",
    "\n",
    "classifier(text_1)"
   ]
  },
  {
   "cell_type": "markdown",
   "metadata": {},
   "source": [
    "### Test 2"
   ]
  },
  {
   "cell_type": "markdown",
   "metadata": {},
   "source": [
    "Ce deuxième texte est un extrait pris d'un article du journal anglais the Guardian."
   ]
  },
  {
   "cell_type": "code",
   "execution_count": 15,
   "metadata": {},
   "outputs": [
    {
     "data": {
      "text/plain": [
       "[{'label': 'HUMAN', 'score': 0.999920129776001}]"
      ]
     },
     "execution_count": 15,
     "metadata": {},
     "output_type": "execute_result"
    }
   ],
   "source": [
    "text_2 = \"In a landmark decision on one of three major climate cases, the first such rulings by an international court, the ECHR raised judicial pressure on governments to stop filling the atmosphere with gases that make extreme weather more violent.\"\n",
    "\n",
    "classifier(text_2)"
   ]
  },
  {
   "cell_type": "markdown",
   "metadata": {},
   "source": [
    "### Test 3"
   ]
  },
  {
   "cell_type": "markdown",
   "metadata": {},
   "source": [
    "Ce troisème texte a été écrit par moi même."
   ]
  },
  {
   "cell_type": "code",
   "execution_count": 16,
   "metadata": {},
   "outputs": [
    {
     "data": {
      "text/plain": [
       "[{'label': 'HUMAN', 'score': 0.9986786246299744}]"
      ]
     },
     "execution_count": 16,
     "metadata": {},
     "output_type": "execute_result"
    }
   ],
   "source": [
    "text3 = \"Traffic lights were invented by Garrett Morgan.\"\n",
    "\n",
    "classifier(text3)"
   ]
  },
  {
   "cell_type": "code",
   "execution_count": 18,
   "metadata": {},
   "outputs": [
    {
     "name": "stdout",
     "output_type": "stream",
     "text": [
      "Le troisième texte a été écrit par un human, avec une certitude de 99.87%\n"
     ]
    }
   ],
   "source": [
    "result = classifier(text3)\n",
    "\n",
    "label = result[0]['label']\n",
    "score = result[0]['score']\n",
    "\n",
    "print(f\"Le troisième texte a été écrit par un {label.lower()}, avec une certitude de {round((score*100),2)}%\")\n"
   ]
  },
  {
   "cell_type": "markdown",
   "metadata": {},
   "source": [
    "### Classification de données tirées de fichiers JSON"
   ]
  },
  {
   "cell_type": "code",
   "execution_count": 2,
   "metadata": {},
   "outputs": [],
   "source": [
    "import json  # Importation de la bibliothèque json pour manipuler des fichiers JSON\n",
    "\n",
    "# Chemins des fichiers d'entrée et de sortie\n",
    "input_file = \"test.jsonl\"  # Chemin du fichier d'entrée au format JSONL\n",
    "output_file = \"data/toPredict_test.json\"  # Chemin du fichier de sortie pour le nouveau fichier JSON\n",
    "\n",
    "# Fonction pour extraire la réponse de chaque ligne du fichier JSONL\n",
    "def extract_data_from_line(line):\n",
    "    # Analyser le JSON de la ligne\n",
    "    json_data = json.loads(line)\n",
    "    # Extraire la réponse\n",
    "    answer = json_data[\"Answer\"]\n",
    "    # Retourner la réponse\n",
    "    return answer\n",
    "\n",
    "# Fonction pour créer un nouveau fichier JSON avec uniquement les réponses\n",
    "def create_new_json(input_file, output_file):\n",
    "    new_data = []  # Liste pour contenir toutes les réponses\n",
    "    with open(input_file, \"r\") as f:\n",
    "        for line in f:\n",
    "            # Extraction de la réponse de chaque ligne\n",
    "            answer = extract_data_from_line(line)\n",
    "            # Ajout de la réponse à new_data\n",
    "            new_data.append({\"text\": answer})\n",
    "    \n",
    "    # Écriture de la liste new_data dans le fichier de sortie au format JSON\n",
    "    with open(output_file, \"w\") as f:\n",
    "        json.dump(new_data, f, indent=4)\n",
    "\n",
    "# Appel de la fonction create_new_json avec les chemins des fichiers d'entrée et de sortie\n",
    "create_new_json(input_file, output_file)\n"
   ]
  },
  {
   "cell_type": "code",
   "execution_count": 11,
   "metadata": {},
   "outputs": [
    {
     "data": {
      "text/plain": [
       "[{'Answer': 'Life is a journey with a beginning and an end. We all embark on this journey at birth and most of us go on as long as we can. The funny thing about life is that it is a complex lottery, with ups and downs. Sadly we do not get to pick how and where we begin our lives, some are luckier than others but what we can do is try our best to live the life that we want for ourselves.',\n",
       "  'label': 0},\n",
       " {'Answer': \"I don't possess personal beliefs or emotions, but I can explore the concept from various perspectives. The meaning of life is a deeply philosophical question that has puzzled humanity for centuries. Some may find meaning through personal fulfillment, relationships, or contributing to the greater good. Others may find meaning in spiritual beliefs or the pursuit of knowledge and understanding. Ultimately, the meaning of life is subjective and can vary greatly from person to person.\",\n",
       "  'label': 1},\n",
       " {'Answer': 'If I could change one thing about the world, I would make sure that everybody goes to therapy. Unfortunately I feel like in today’s society too many people live their lives with strong mental illness and hurt people along the way. If we could all take a step back and recognize how we are behaving and what causes such behavior perhaps the whole would be a better place.',\n",
       "  'label': 0},\n",
       " {'Answer': 'If I could change one thing about the world, it would be to ensure universal access to education. Education has the power to uplift individuals and communities, reduce inequality, foster critical thinking, and promote understanding and empathy among people from different backgrounds. By ensuring that everyone has access to quality education, we can empower individuals to reach their full potential and create a more equitable and prosperous world for all.',\n",
       "  'label': 1},\n",
       " {'Answer': 'There are many different potential explanations : it could be the fear of bad things happening to them if they aren’t good to others, the need to feel helpful or needed. More generally, I believe that people mostly do good deeds for themselves, it can appear as a selfless act but deep down it is about us and what we feel.',\n",
       "  'label': 0},\n",
       " {'Answer': 'People are motivated to do good deeds by empathy, personal values, social expectations, fulfillment, reciprocity, and sometimes egoistic concerns. Empathy and compassion drive individuals to help others, while personal values and social norms guide behavior. Helping others brings fulfillment and satisfaction, and the principle of reciprocity also plays a role. However, some may be motivated by egoistic considerations, such as boosting their self-image.',\n",
       "  'label': 1},\n",
       " {'Answer': 'Happiness is what fulfills you without hurting others.',\n",
       "  'label': 0},\n",
       " {'Answer': 'Happiness is a state of well-being and contentment characterized by positive emotions, satisfaction, and fulfillment.',\n",
       "  'label': 0}]"
      ]
     },
     "execution_count": 11,
     "metadata": {},
     "output_type": "execute_result"
    }
   ],
   "source": [
    "def classify(filename) :  # Définition de la fonction classify prenant en argument un nom de fichier\n",
    "\n",
    "    # Instanciation d'un pipeline de classification de texte\n",
    "    # en utilisant un modèle pré-entraîné nommé \"model\"\n",
    "    classifier = pipeline(\"text-classification\", model=\"model\")  \n",
    "    # Ouverture du fichier en mode lecture                                                             \n",
    "    with open(filename, \"r\") as file:  \n",
    "        # Chargement des données JSON à partir du fichier dans une variable nommée data\n",
    "        data = json.load(file)  \n",
    "    # Initialisation d'une liste vide pour stocker les nouvelles données classifiées\n",
    "    new_data = []  \n",
    "\n",
    "    # Parcours de chaque élément dans les données\n",
    "    for element in data:\n",
    "        # Extraction du texte de chaque élément\n",
    "        text = element[\"text\"]  \n",
    "        \n",
    "        # Vérification si la longueur du texte est inférieure ou égale à 512\n",
    "        if len(text) <= 512:  \n",
    "            # Classification du texte à l'aide du modèle de classification de texte\n",
    "            result = classifier(text)  \n",
    "            # Vérification du label prédit par le modèle\n",
    "            if result[0]['label'] == \"HUMAN\":  \n",
    "                # Attribution de l'étiquette 0 si le modèle prédit \"HUMAN\"\n",
    "                label = 0  \n",
    "            else :\n",
    "                # Attribution de l'étiquette 1 si le modèle prédit autre chose\n",
    "                label = 1  \n",
    "            \n",
    "            # Création d'un nouveau dictionnaire contenant le texte et l'étiquette\n",
    "            new_dict = {'Answer' : text, 'label' : label}  \n",
    "            # Ajout du nouveau dictionnaire à la liste new_data\n",
    "            new_data.append(new_dict)  \n",
    "        else : \n",
    "            # Si la longueur du texte dépasse 512 caractères, ne rien faire et passer à l'élément suivant\n",
    "            # notre modèle a une limite de 512 tokens\n",
    "            pass  \n",
    "    # Retourne la liste des nouvelles données classifiées\n",
    "    return new_data  \n",
    "\n",
    "# Appel de la fonction classify avec le nom du fichier JSON en argument\n",
    "classify(\"answers_test.json\")  \n"
   ]
  },
  {
   "cell_type": "markdown",
   "metadata": {},
   "source": [
    "Parmi ces 8 différents textes 7 sur 8 ont été correctement identifiés. Le dernier texte a été généré par ChatGPT mais est labelisé comme \"humain\". C'est probablement dû à la longueur du texte, un texte court est peut être plus difficile à classifier pour notre modèle. \n",
    "\n",
    "Faisons donc un nouveau test avec une ensemble de textes courts."
   ]
  },
  {
   "cell_type": "code",
   "execution_count": 12,
   "metadata": {},
   "outputs": [
    {
     "data": {
      "text/plain": [
       "[{'Answer': 'Art is a free form of expression which can bring people together.',\n",
       "  'label': 0},\n",
       " {'Answer': \"Art has the power to inspire, provoke thought, evoke emotions, and promote cultural understanding, fostering creativity and expression while enriching society's cultural fabric.\",\n",
       "  'label': 0},\n",
       " {'Answer': 'Cultures are ideas, rules and traditions that link people to one another. It is the way one grows up and sometimes identifies with. Cultures can be points of reference which guide us through the journey of life.',\n",
       "  'label': 0},\n",
       " {'Answer': 'Culture shapes our identities by influencing our beliefs, values, norms, behaviors, and worldview, providing a framework through which we understand ourselves and relate to others within society.',\n",
       "  'label': 0}]"
      ]
     },
     "execution_count": 12,
     "metadata": {},
     "output_type": "execute_result"
    }
   ],
   "source": [
    "create_new_json(\"test2.jsonl\", \"data/toPredict_test2.json\")\n",
    "classify(\"answers_test2.json\")"
   ]
  },
  {
   "cell_type": "markdown",
   "metadata": {},
   "source": [
    "Nous constatons qu'avec des réponses plus courtes, il est difficile pour le modèle de bien identifier les textes de Chatgpt. Il a ici tout identifié comme textes écrits par un humain quand 2 textes sur 4 ont en réalité été généré par Chatgpt. "
   ]
  }
 ],
 "metadata": {
  "kernelspec": {
   "display_name": "Python 3",
   "language": "python",
   "name": "python3"
  },
  "language_info": {
   "codemirror_mode": {
    "name": "ipython",
    "version": 3
   },
   "file_extension": ".py",
   "mimetype": "text/x-python",
   "name": "python",
   "nbconvert_exporter": "python",
   "pygments_lexer": "ipython3",
   "version": "3.9.6"
  }
 },
 "nbformat": 4,
 "nbformat_minor": 2
}
